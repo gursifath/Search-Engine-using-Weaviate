{
 "cells": [
  {
   "cell_type": "code",
   "execution_count": 1,
   "id": "9898053d",
   "metadata": {},
   "outputs": [
    {
     "name": "stdout",
     "output_type": "stream",
     "text": [
      "Requirement already satisfied: weaviate-client in /Library/Frameworks/Python.framework/Versions/3.11/lib/python3.11/site-packages (4.16.7)\n",
      "Collecting weaviate-client\n",
      "  Downloading weaviate_client-4.16.9-py3-none-any.whl (579 kB)\n",
      "\u001b[2K     \u001b[90m━━━━━━━━━━━━━━━━━━━━━━━━━━━━━━━━━━━━━━━\u001b[0m \u001b[32m579.1/579.1 kB\u001b[0m \u001b[31m8.0 MB/s\u001b[0m eta \u001b[36m0:00:00\u001b[0ma \u001b[36m0:00:01\u001b[0m\n",
      "\u001b[?25hRequirement already satisfied: httpx<0.29.0,>=0.26.0 in /Library/Frameworks/Python.framework/Versions/3.11/lib/python3.11/site-packages (from weaviate-client) (0.28.1)\n",
      "Requirement already satisfied: validators<1.0.0,>=0.34.0 in /Library/Frameworks/Python.framework/Versions/3.11/lib/python3.11/site-packages (from weaviate-client) (0.35.0)\n",
      "Requirement already satisfied: authlib<2.0.0,>=1.2.1 in /Library/Frameworks/Python.framework/Versions/3.11/lib/python3.11/site-packages (from weaviate-client) (1.6.1)\n",
      "Requirement already satisfied: pydantic<3.0.0,>=2.8.0 in /Library/Frameworks/Python.framework/Versions/3.11/lib/python3.11/site-packages (from weaviate-client) (2.11.7)\n",
      "Requirement already satisfied: grpcio<1.80.0,>=1.59.5 in /Library/Frameworks/Python.framework/Versions/3.11/lib/python3.11/site-packages (from weaviate-client) (1.74.0)\n",
      "Requirement already satisfied: protobuf<7.0.0,>=4.21.6 in /Library/Frameworks/Python.framework/Versions/3.11/lib/python3.11/site-packages (from weaviate-client) (6.32.0)\n",
      "Requirement already satisfied: deprecation<3.0.0,>=2.1.0 in /Library/Frameworks/Python.framework/Versions/3.11/lib/python3.11/site-packages (from weaviate-client) (2.1.0)\n",
      "Requirement already satisfied: cryptography in /Library/Frameworks/Python.framework/Versions/3.11/lib/python3.11/site-packages (from authlib<2.0.0,>=1.2.1->weaviate-client) (45.0.6)\n",
      "Requirement already satisfied: packaging in /Users/gursifathbhasin/Library/Python/3.11/lib/python/site-packages (from deprecation<3.0.0,>=2.1.0->weaviate-client) (25.0)\n",
      "Requirement already satisfied: anyio in /Library/Frameworks/Python.framework/Versions/3.11/lib/python3.11/site-packages (from httpx<0.29.0,>=0.26.0->weaviate-client) (4.10.0)\n",
      "Requirement already satisfied: certifi in /Library/Frameworks/Python.framework/Versions/3.11/lib/python3.11/site-packages (from httpx<0.29.0,>=0.26.0->weaviate-client) (2025.8.3)\n",
      "Requirement already satisfied: httpcore==1.* in /Library/Frameworks/Python.framework/Versions/3.11/lib/python3.11/site-packages (from httpx<0.29.0,>=0.26.0->weaviate-client) (1.0.9)\n",
      "Requirement already satisfied: idna in /Library/Frameworks/Python.framework/Versions/3.11/lib/python3.11/site-packages (from httpx<0.29.0,>=0.26.0->weaviate-client) (3.10)\n",
      "Requirement already satisfied: h11>=0.16 in /Library/Frameworks/Python.framework/Versions/3.11/lib/python3.11/site-packages (from httpcore==1.*->httpx<0.29.0,>=0.26.0->weaviate-client) (0.16.0)\n",
      "Requirement already satisfied: annotated-types>=0.6.0 in /Library/Frameworks/Python.framework/Versions/3.11/lib/python3.11/site-packages (from pydantic<3.0.0,>=2.8.0->weaviate-client) (0.7.0)\n",
      "Requirement already satisfied: pydantic-core==2.33.2 in /Library/Frameworks/Python.framework/Versions/3.11/lib/python3.11/site-packages (from pydantic<3.0.0,>=2.8.0->weaviate-client) (2.33.2)\n",
      "Requirement already satisfied: typing-extensions>=4.12.2 in /Users/gursifathbhasin/Library/Python/3.11/lib/python/site-packages (from pydantic<3.0.0,>=2.8.0->weaviate-client) (4.14.1)\n",
      "Requirement already satisfied: typing-inspection>=0.4.0 in /Library/Frameworks/Python.framework/Versions/3.11/lib/python3.11/site-packages (from pydantic<3.0.0,>=2.8.0->weaviate-client) (0.4.1)\n",
      "Requirement already satisfied: sniffio>=1.1 in /Library/Frameworks/Python.framework/Versions/3.11/lib/python3.11/site-packages (from anyio->httpx<0.29.0,>=0.26.0->weaviate-client) (1.3.1)\n",
      "Requirement already satisfied: cffi>=1.14 in /Library/Frameworks/Python.framework/Versions/3.11/lib/python3.11/site-packages (from cryptography->authlib<2.0.0,>=1.2.1->weaviate-client) (1.17.1)\n",
      "Requirement already satisfied: pycparser in /Library/Frameworks/Python.framework/Versions/3.11/lib/python3.11/site-packages (from cffi>=1.14->cryptography->authlib<2.0.0,>=1.2.1->weaviate-client) (2.22)\n",
      "Installing collected packages: weaviate-client\n",
      "  Attempting uninstall: weaviate-client\n",
      "    Found existing installation: weaviate-client 4.16.7\n",
      "    Uninstalling weaviate-client-4.16.7:\n",
      "      Successfully uninstalled weaviate-client-4.16.7\n",
      "Successfully installed weaviate-client-4.16.9\n",
      "\n",
      "\u001b[1m[\u001b[0m\u001b[34;49mnotice\u001b[0m\u001b[1;39;49m]\u001b[0m\u001b[39;49m A new release of pip available: \u001b[0m\u001b[31;49m22.3\u001b[0m\u001b[39;49m -> \u001b[0m\u001b[32;49m25.2\u001b[0m\n",
      "\u001b[1m[\u001b[0m\u001b[34;49mnotice\u001b[0m\u001b[1;39;49m]\u001b[0m\u001b[39;49m To update, run: \u001b[0m\u001b[32;49mpip3 install --upgrade pip\u001b[0m\n",
      "Note: you may need to restart the kernel to use updated packages.\n"
     ]
    }
   ],
   "source": [
    "pip install -U weaviate-client"
   ]
  },
  {
   "cell_type": "code",
   "execution_count": null,
   "id": "36be18b6",
   "metadata": {},
   "outputs": [
    {
     "name": "stdout",
     "output_type": "stream",
     "text": [
      "Requirement already satisfied: python-dotenv in /Library/Frameworks/Python.framework/Versions/3.11/lib/python3.11/site-packages (1.1.1)\n",
      "\n",
      "\u001b[1m[\u001b[0m\u001b[34;49mnotice\u001b[0m\u001b[1;39;49m]\u001b[0m\u001b[39;49m A new release of pip available: \u001b[0m\u001b[31;49m22.3\u001b[0m\u001b[39;49m -> \u001b[0m\u001b[32;49m25.2\u001b[0m\n",
      "\u001b[1m[\u001b[0m\u001b[34;49mnotice\u001b[0m\u001b[1;39;49m]\u001b[0m\u001b[39;49m To update, run: \u001b[0m\u001b[32;49mpip3 install --upgrade pip\u001b[0m\n",
      "Note: you may need to restart the kernel to use updated packages.\n"
     ]
    }
   ],
   "source": [
    "pip install python-dotenv\n"
   ]
  },
  {
   "cell_type": "code",
   "execution_count": 6,
   "id": "071fc111",
   "metadata": {},
   "outputs": [
    {
     "name": "stdout",
     "output_type": "stream",
     "text": [
      "True\n"
     ]
    }
   ],
   "source": [
    "import os\n",
    "import weaviate\n",
    "from weaviate.classes.init import Auth\n",
    "from dotenv import load_dotenv\n",
    "\n",
    "load_dotenv()  # Load environment variables from a .env file\n",
    "# Best practice: store your credentials in environment variables\n",
    "weaviate_url = os.environ[\"WEAVIATE_URL\"]\n",
    "weaviate_api_key = os.environ[\"WEAVIATE_API_KEY\"]\n",
    "open_ai_api_key = os.environ[\"OPENAI_API_KEY\"]\n",
    "\n",
    "# Connect to Weaviate Cloud\n",
    "client = weaviate.connect_to_weaviate_cloud(\n",
    "    cluster_url=weaviate_url,\n",
    "    auth_credentials=Auth.api_key(weaviate_api_key),\n",
    "    headers={\"X-OpenAI-Api-Key\": open_ai_api_key}\n",
    ")\n",
    "\n",
    "print(client.is_ready())"
   ]
  },
  {
   "cell_type": "code",
   "execution_count": 2,
   "id": "2e91ee9c",
   "metadata": {},
   "outputs": [],
   "source": [
    "collection_name = \"EcommerceProducts\""
   ]
  },
  {
   "cell_type": "code",
   "execution_count": 3,
   "id": "94c9ac9c",
   "metadata": {},
   "outputs": [],
   "source": [
    "import weaviate.classes.config as wvc"
   ]
  },
  {
   "cell_type": "code",
   "execution_count": 4,
   "id": "38115a7e",
   "metadata": {},
   "outputs": [
    {
     "name": "stdout",
     "output_type": "stream",
     "text": [
      "Creating collection 'EcommerceProducts'...\n"
     ]
    },
    {
     "name": "stderr",
     "output_type": "stream",
     "text": [
      "/Library/Frameworks/Python.framework/Versions/3.11/lib/python3.11/site-packages/weaviate/warnings.py:196: DeprecationWarning: Dep024: You are using the `vectorizer_config` argument in `collection.config.create()`, which is deprecated.\n",
      "            Use the `vector_config` argument instead.\n",
      "            \n",
      "  warnings.warn(\n"
     ]
    },
    {
     "name": "stdout",
     "output_type": "stream",
     "text": [
      "Successfully created collection 'EcommerceProducts'\n",
      "Connection closed.\n"
     ]
    }
   ],
   "source": [
    "try:\n",
    "    if not client.collections.exists(collection_name):\n",
    "        print(f\"Creating collection '{collection_name}'...\")\n",
    "        products = client.collections.create(\n",
    "            name=collection_name,\n",
    "            vectorizer_config=wvc.Configure.Vectorizer.text2vec_openai(),\n",
    "            properties=[\n",
    "                # Properties for semantic search\n",
    "                wvc.Property(name=\"product_title\", data_type=wvc.DataType.TEXT),\n",
    "                wvc.Property(name=\"product_description\", data_type=wvc.DataType.TEXT),\n",
    "                wvc.Property(name=\"product_bullet_point\", data_type=wvc.DataType.TEXT),\n",
    "                \n",
    "                # Properties for filtering ONLY (vectorization is skipped)\n",
    "                wvc.Property(name=\"product_id\", data_type=wvc.DataType.TEXT, skip_vectorization=True),\n",
    "                wvc.Property(name=\"product_brand\", data_type=wvc.DataType.TEXT, skip_vectorization=True),\n",
    "                wvc.Property(name=\"product_color\", data_type=wvc.DataType.TEXT, skip_vectorization=True),\n",
    "            ]\n",
    "        )\n",
    "        print(f\"Successfully created collection '{collection_name}'\")\n",
    "    else:\n",
    "        print(f\"Collection '{collection_name}' already exists.\")\n",
    "\n",
    "finally:\n",
    "    client.close()\n",
    "    print(\"Connection closed.\")"
   ]
  },
  {
   "cell_type": "code",
   "execution_count": null,
   "id": "bff5a8f3",
   "metadata": {},
   "outputs": [
    {
     "name": "stdout",
     "output_type": "stream",
     "text": [
      "Starting data ingestion to Weaviate Cloud...\n",
      "Imported 10000 of 1215854 products\n",
      "Imported 20000 of 1215854 products\n"
     ]
    },
    {
     "name": "stderr",
     "output_type": "stream",
     "text": [
      "{'message': 'Failed to send all objects in a batch of 1000', 'error': 'WeaviateInsertManyAllFailedError(\"Every object failed during insertion. Here is the set of all errors: unmarshal response body. Got: upstream connect error or disconnect/reset before headers. reset reason: connection termination: invalid character \\'u\\' looking for beginning of value\")'}\n",
      "{'message': 'Failed to send 1000 objects in a batch of 1000. Please inspect client.batch.failed_objects or collection.batch.failed_objects for the failed objects.'}\n"
     ]
    },
    {
     "name": "stdout",
     "output_type": "stream",
     "text": [
      "Imported 30000 of 1215854 products\n",
      "Imported 40000 of 1215854 products\n",
      "Imported 50000 of 1215854 products\n",
      "Imported 60000 of 1215854 products\n",
      "Imported 70000 of 1215854 products\n",
      "Imported 80000 of 1215854 products\n",
      "Imported 90000 of 1215854 products\n",
      "Imported 100000 of 1215854 products\n",
      "Imported 110000 of 1215854 products\n",
      "Imported 120000 of 1215854 products\n",
      "Imported 130000 of 1215854 products\n",
      "Imported 140000 of 1215854 products\n",
      "Imported 150000 of 1215854 products\n",
      "Imported 160000 of 1215854 products\n",
      "Imported 170000 of 1215854 products\n",
      "Imported 180000 of 1215854 products\n",
      "Imported 190000 of 1215854 products\n",
      "Imported 200000 of 1215854 products\n",
      "Imported 210000 of 1215854 products\n",
      "Imported 220000 of 1215854 products\n",
      "Imported 230000 of 1215854 products\n",
      "Imported 240000 of 1215854 products\n",
      "Imported 250000 of 1215854 products\n"
     ]
    }
   ],
   "source": [
    "import pandas as pd\n",
    "# --- Load Data and Ingest ---\n",
    "try:\n",
    "    # Get the collection object\n",
    "    products = client.collections.get(collection_name)\n",
    "\n",
    "    df = pd.read_parquet('dataset/cleaned_shopping_queries_dataset_products.parquet')\n",
    "    df.fillna('', inplace=True)\n",
    "\n",
    "    print(\"Starting data ingestion to Weaviate Cloud...\")\n",
    "\n",
    "    # Use the collection's batch manager for dynamic batching\n",
    "    with products.batch.dynamic() as batch:\n",
    "        for i, row in df.iterrows():\n",
    "            properties = {\n",
    "                \"product_id\": row[\"product_id\"],\n",
    "                \"product_title\": row[\"product_title\"],\n",
    "                \"product_description\": row[\"product_description\"],\n",
    "                \"product_bullet_point\": row[\"product_bullet_point\"],\n",
    "                \"product_brand\": row[\"product_brand\"],\n",
    "                \"product_color\": row[\"product_color\"],\n",
    "            }\n",
    "            # Add object to the batch\n",
    "            batch.add_object(properties=properties)\n",
    "\n",
    "            if (i + 1) % 10000 == 0:\n",
    "                print(f\"Imported {i + 1} of {len(df)} products\")\n",
    "    \n",
    "    print(f\"Data ingestion complete! Total objects in collection: {len(products)}\")\n",
    "\n",
    "finally:\n",
    "    client.close()\n",
    "    print(\"Connection closed.\")"
   ]
  },
  {
   "cell_type": "code",
   "execution_count": null,
   "id": "a28ff0e7",
   "metadata": {},
   "outputs": [],
   "source": []
  }
 ],
 "metadata": {
  "kernelspec": {
   "display_name": "Python 3",
   "language": "python",
   "name": "python3"
  },
  "language_info": {
   "codemirror_mode": {
    "name": "ipython",
    "version": 3
   },
   "file_extension": ".py",
   "mimetype": "text/x-python",
   "name": "python",
   "nbconvert_exporter": "python",
   "pygments_lexer": "ipython3",
   "version": "3.11.0"
  }
 },
 "nbformat": 4,
 "nbformat_minor": 5
}
